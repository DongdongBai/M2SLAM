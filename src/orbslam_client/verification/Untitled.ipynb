{
 "cells": [
  {
   "cell_type": "code",
   "execution_count": 6,
   "metadata": {
    "collapsed": false
   },
   "outputs": [],
   "source": [
    "import matplotlib as mpl\n",
    "from mpl_toolkits.mplot3d import Axes3D\n",
    "import numpy as np\n",
    "import matplotlib.pyplot as plt\n",
    "\n",
    "mpl.rcParams['legend.fontsize'] = 10\n",
    "\n",
    "\n",
    "def readData( filename , x, y, z):\n",
    "    with open(filename,'r') as f:  \n",
    "        for line in f.readlines():  \n",
    "            linestr = line.strip()  \n",
    "            linestrlist = linestr.split()  \n",
    "            linelist = map(float,linestrlist)\n",
    "            x.append(float(linelist[1]))\n",
    "            y.append(float(linelist[2]))\n",
    "            z.append(float(linelist[3]))\n",
    "              \n",
    "data1 = \"KeyFrameTrajectory.txt\" \n",
    "x1 = []\n",
    "y1 = []\n",
    "z1 = []\n",
    "readData( data1, x1, y1, z1)\n",
    "data2 = \"KeyFrameTrajectorystd.txt\" \n",
    "x2 = []\n",
    "y2 = []\n",
    "z2 = []\n",
    "readData( data2, x2, y2, z2)\n",
    "\n",
    "fig = plt.figure()\n",
    "ax = fig.gca(projection='3d')\n",
    "ax.plot(x1, y1, z1,label='test')\n",
    "ax.plot(x2, y2, z2,label='std')\n",
    "ax.legend()\n",
    "\n",
    "plt.show()"
   ]
  },
  {
   "cell_type": "code",
   "execution_count": null,
   "metadata": {
    "collapsed": true
   },
   "outputs": [],
   "source": []
  }
 ],
 "metadata": {
  "kernelspec": {
   "display_name": "Python 2",
   "language": "python",
   "name": "python2"
  },
  "language_info": {
   "codemirror_mode": {
    "name": "ipython",
    "version": 2
   },
   "file_extension": ".py",
   "mimetype": "text/x-python",
   "name": "python",
   "nbconvert_exporter": "python",
   "pygments_lexer": "ipython2",
   "version": "2.7.6"
  }
 },
 "nbformat": 4,
 "nbformat_minor": 1
}
